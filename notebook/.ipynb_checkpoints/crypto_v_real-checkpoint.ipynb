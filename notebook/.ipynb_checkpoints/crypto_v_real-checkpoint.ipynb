{
 "cells": [
  {
   "cell_type": "code",
   "execution_count": 3,
   "id": "783efe1b",
   "metadata": {},
   "outputs": [],
   "source": [
    "import pandas as pd\n",
    "import matplotlib.pyplot as plt\n",
    "\n",
    "%matplotlib inline"
   ]
  },
  {
   "cell_type": "code",
   "execution_count": 4,
   "id": "0f3f88a7",
   "metadata": {},
   "outputs": [
    {
     "data": {
      "text/html": [
       "<div>\n",
       "<style scoped>\n",
       "    .dataframe tbody tr th:only-of-type {\n",
       "        vertical-align: middle;\n",
       "    }\n",
       "\n",
       "    .dataframe tbody tr th {\n",
       "        vertical-align: top;\n",
       "    }\n",
       "\n",
       "    .dataframe thead th {\n",
       "        text-align: right;\n",
       "    }\n",
       "</style>\n",
       "<table border=\"1\" class=\"dataframe\">\n",
       "  <thead>\n",
       "    <tr style=\"text-align: right;\">\n",
       "      <th></th>\n",
       "      <th>Date</th>\n",
       "      <th>Open</th>\n",
       "      <th>High</th>\n",
       "      <th>Low</th>\n",
       "      <th>Close</th>\n",
       "      <th>Adj Close</th>\n",
       "      <th>Volume</th>\n",
       "    </tr>\n",
       "  </thead>\n",
       "  <tbody>\n",
       "    <tr>\n",
       "      <th>0</th>\n",
       "      <td>9/17/2014</td>\n",
       "      <td>465.864014</td>\n",
       "      <td>468.174011</td>\n",
       "      <td>452.421997</td>\n",
       "      <td>457.334015</td>\n",
       "      <td>457.334015</td>\n",
       "      <td>21056800.0</td>\n",
       "    </tr>\n",
       "    <tr>\n",
       "      <th>1</th>\n",
       "      <td>9/18/2014</td>\n",
       "      <td>456.859985</td>\n",
       "      <td>456.859985</td>\n",
       "      <td>413.104004</td>\n",
       "      <td>424.440002</td>\n",
       "      <td>424.440002</td>\n",
       "      <td>34483200.0</td>\n",
       "    </tr>\n",
       "    <tr>\n",
       "      <th>2</th>\n",
       "      <td>9/19/2014</td>\n",
       "      <td>424.102997</td>\n",
       "      <td>427.834991</td>\n",
       "      <td>384.532013</td>\n",
       "      <td>394.795990</td>\n",
       "      <td>394.795990</td>\n",
       "      <td>37919700.0</td>\n",
       "    </tr>\n",
       "    <tr>\n",
       "      <th>3</th>\n",
       "      <td>9/20/2014</td>\n",
       "      <td>394.673004</td>\n",
       "      <td>423.295990</td>\n",
       "      <td>389.882996</td>\n",
       "      <td>408.903992</td>\n",
       "      <td>408.903992</td>\n",
       "      <td>36863600.0</td>\n",
       "    </tr>\n",
       "    <tr>\n",
       "      <th>4</th>\n",
       "      <td>9/21/2014</td>\n",
       "      <td>408.084991</td>\n",
       "      <td>412.425995</td>\n",
       "      <td>393.181000</td>\n",
       "      <td>398.821014</td>\n",
       "      <td>398.821014</td>\n",
       "      <td>26580100.0</td>\n",
       "    </tr>\n",
       "  </tbody>\n",
       "</table>\n",
       "</div>"
      ],
      "text/plain": [
       "        Date        Open        High         Low       Close   Adj Close  \\\n",
       "0  9/17/2014  465.864014  468.174011  452.421997  457.334015  457.334015   \n",
       "1  9/18/2014  456.859985  456.859985  413.104004  424.440002  424.440002   \n",
       "2  9/19/2014  424.102997  427.834991  384.532013  394.795990  394.795990   \n",
       "3  9/20/2014  394.673004  423.295990  389.882996  408.903992  408.903992   \n",
       "4  9/21/2014  408.084991  412.425995  393.181000  398.821014  398.821014   \n",
       "\n",
       "       Volume  \n",
       "0  21056800.0  \n",
       "1  34483200.0  \n",
       "2  37919700.0  \n",
       "3  36863600.0  \n",
       "4  26580100.0  "
      ]
     },
     "execution_count": 4,
     "metadata": {},
     "output_type": "execute_result"
    }
   ],
   "source": [
    "#sourcing data, will import when all neded data located.\n",
    "btc_val = pd.read_csv('../data/btc_usd.csv')\n",
    "btc_val.head()"
   ]
  },
  {
   "cell_type": "code",
   "execution_count": 11,
   "id": "1b9c9236",
   "metadata": {},
   "outputs": [
    {
     "data": {
      "text/plain": [
       "Date        Open          High          Low           Close         Adj Close     Volume      \n",
       "1/1/2015    320.434998    320.434998    314.002991    314.248993    314.248993    8.036550e+06    1\n",
       "5/5/2017    1540.869995   1618.030029   1530.310059   1555.449951   1555.449951   9.460360e+08    1\n",
       "5/5/2019    5831.068359   5833.862793   5708.035156   5795.708496   5795.708496   1.480883e+10    1\n",
       "5/5/2020    8912.832031   9062.415039   8856.827148   9003.070313   9003.070313   4.314846e+10    1\n",
       "5/5/2021    53252.164060  57911.363280  52969.054690  57424.007810  57424.007810  6.924132e+10    1\n",
       "                                                                                                 ..\n",
       "12/29/2016  975.125000    979.396973    954.502991    973.497009    973.497009    1.993200e+08    1\n",
       "12/29/2017  14695.799810  15279.000000  14307.000000  14656.200200  14656.200200  1.302550e+10    1\n",
       "12/29/2018  3932.491699   3963.758789   3820.408691   3820.408691   3820.408691   4.991656e+09    1\n",
       "12/29/2019  7317.647461   7513.948242   7279.865234   7422.652832   7422.652832   2.244526e+10    1\n",
       "9/9/2021    45774.742190  47261.949220  45669.738280  46391.421880  46391.421880  3.867266e+10    1\n",
       "Length: 2683, dtype: int64"
      ]
     },
     "execution_count": 11,
     "metadata": {},
     "output_type": "execute_result"
    }
   ],
   "source": [
    "btc_val.value_counts()"
   ]
  },
  {
   "cell_type": "code",
   "execution_count": 13,
   "id": "ee3767ef",
   "metadata": {},
   "outputs": [
    {
     "data": {
      "text/plain": [
       "Date        Open          High          Low           Close         Adj Close     Volume      \n",
       "2014-09-17  465.864014    468.174011    452.421997    457.334015    457.334015    2.105680e+07    1\n",
       "2019-08-04  10821.632810  11009.207030  10620.278320  10970.184570  10970.184570  1.653089e+10    1\n",
       "2019-08-06  11811.544920  12273.821290  11290.731450  11478.168950  11478.168950  2.363511e+10    1\n",
       "2019-08-07  11476.193360  12036.990230  11433.701170  11941.968750  11941.968750  2.219499e+10    1\n",
       "2019-08-08  11954.040040  11979.419920  11556.167970  11966.407230  11966.407230  1.948159e+10    1\n",
       "                                                                                                 ..\n",
       "2017-02-28  1180.719971   1193.250000   1171.819946   1179.969971   1179.969971   1.849560e+08    1\n",
       "2017-03-01  1180.040039   1222.500000   1179.689941   1222.500000   1222.500000   2.290570e+08    1\n",
       "2017-03-02  1224.680054   1262.130005   1215.619995   1251.010010   1251.010010   3.682750e+08    1\n",
       "2017-03-03  1250.709961   1280.310059   1250.709961   1274.989990   1274.989990   3.157390e+08    1\n",
       "2022-01-20  41736.527340  43381.250000  41724.464840  42663.968750  42663.968750  1.720060e+10    1\n",
       "Length: 2683, dtype: int64"
      ]
     },
     "execution_count": 13,
     "metadata": {},
     "output_type": "execute_result"
    }
   ],
   "source": [
    "#df['new_date'] = pd.to_datetime(df['old_date'].astype(str))\n",
    "btc_val['Date'] = pd.to_datetime(btc_val['Date'].astype(str))\n",
    "btc_val.value_counts()"
   ]
  },
  {
   "cell_type": "code",
   "execution_count": 17,
   "id": "4b2235b6",
   "metadata": {},
   "outputs": [
    {
     "data": {
      "text/plain": [
       "Timestamp('2014-09-17 00:00:00')"
      ]
     },
     "execution_count": 17,
     "metadata": {},
     "output_type": "execute_result"
    }
   ],
   "source": [
    "start_date = btc_val.Date.min()\n",
    "#will need this to remove all date before it from other datasets.\n",
    "start_date"
   ]
  },
  {
   "cell_type": "code",
   "execution_count": 18,
   "id": "ff5c1774",
   "metadata": {},
   "outputs": [],
   "source": [
    "crypto_index = pd.read_csv('../data/cmc200.csv')\n",
    "oil = pd.read_csv('../data/crude_oil.csv')\n",
    "dow  = pd.read_csv('../data/dji.csv')\n",
    "euro  = pd.read_csv('../data/eur_usd.csv')\n",
    "gbp  = pd.read_csv('../data/gbp_usd.csv')\n",
    "gold = pd.read_csv('../data/gold.csv')\n",
    "yen  = pd.read_csv('../data/jpy_usd.csv')\n",
    "nasdaq  = pd.read_csv('../data/nasdaq.csv')\n",
    "silver  = pd.read_csv('../data/silver.csv')\n",
    "sp500  = pd.read_csv('../data/sp500.csv')"
   ]
  },
  {
   "cell_type": "code",
   "execution_count": null,
   "id": "b0cb1543",
   "metadata": {},
   "outputs": [],
   "source": [
    "#data is read in, lets filter it to not have any data before start_date"
   ]
  }
 ],
 "metadata": {
  "kernelspec": {
   "display_name": "Python 3",
   "language": "python",
   "name": "python3"
  },
  "language_info": {
   "codemirror_mode": {
    "name": "ipython",
    "version": 3
   },
   "file_extension": ".py",
   "mimetype": "text/x-python",
   "name": "python",
   "nbconvert_exporter": "python",
   "pygments_lexer": "ipython3",
   "version": "3.8.8"
  }
 },
 "nbformat": 4,
 "nbformat_minor": 5
}
